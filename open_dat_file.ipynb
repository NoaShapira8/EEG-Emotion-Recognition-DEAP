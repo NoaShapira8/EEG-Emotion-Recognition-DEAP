{
 "cells": [
  {
   "cell_type": "code",
   "execution_count": 1,
   "id": "e999574d-451c-4c18-bda1-04e1d28c7b5b",
   "metadata": {},
   "outputs": [
    {
     "name": "stdout",
     "output_type": "stream",
     "text": [
      "<class 'dict'>\n",
      "Keys: dict_keys(['labels', 'data'])\n",
      "Key: labels\n",
      "Type: <class 'numpy.ndarray'>\n",
      "Shape/Length: (40, 4)\n",
      "Key: data\n",
      "Type: <class 'numpy.ndarray'>\n",
      "Shape/Length: (40, 40, 8064)\n"
     ]
    }
   ],
   "source": [
    "import pandas as pd\n",
    "import pickle\n",
    "import os\n",
    "import numpy as np\n",
    "\n",
    "# Define the relative file path\n",
    "file_path = './deap_orig/data_preprocessed_python/s01.dat'\n",
    "# Load the .dat file\n",
    "with open(file_path, 'rb') as file:\n",
    "    data = pickle.load(file, encoding='latin1')  # Adjust encoding as necessary\n",
    "\n",
    "# Check the type of the data loaded\n",
    "print(type(data))\n",
    "\n",
    "# Inspect the keys of the dictionary\n",
    "print(\"Keys:\", data.keys())\n",
    "\n",
    "# Inspect the structure of each key's data\n",
    "for key in data:\n",
    "    print(f\"Key: {key}\")\n",
    "    print(f\"Type: {type(data[key])}\")\n",
    "    print(f\"Shape/Length: {getattr(data[key], 'shape', len(data[key]))}\")\n",
    "\n",
    "# Further inspection if needed\n",
    "#print(data['data'])  # Uncomment to inspect specific keys"
   ]
  },
  {
   "cell_type": "code",
   "execution_count": 2,
   "id": "772fd77b-d691-4054-8428-efc647507942",
   "metadata": {},
   "outputs": [],
   "source": [
    "\n",
    "# Example key names; adjust based on actual inspection\n",
    "eeg_data_key = 'data'\n",
    "labels_key = 'labels'\n",
    "\n",
    "# Flatten the EEG data\n",
    "eeg_data = data[eeg_data_key]  # Assuming this is a numpy array of shape (trials, channels, samples)\n",
    "eeg_data_flat = eeg_data.reshape(eeg_data.shape[0], -1)  # Flatten the channel and sample dimensions\n",
    "\n",
    "# Combine with labels\n",
    "labels = data[labels_key]  # Assuming this is a 2D array (trials, label_dim)\n",
    "combined_data = np.hstack((eeg_data_flat, labels))\n",
    "\n",
    "# Create DataFrame with appropriate column names\n",
    "column_names = [f'channel_{i}_sample_{j}' for i in range(eeg_data.shape[1]) for j in range(eeg_data.shape[2])]\n",
    "label_names = [f'label_{i}' for i in range(labels.shape[1])]\n",
    "all_column_names = column_names + label_names\n",
    "\n",
    "df = pd.DataFrame(combined_data, columns=all_column_names)"
   ]
  },
  {
   "cell_type": "code",
   "execution_count": null,
   "id": "a060e5b9-e6da-4ad8-a01a-c4726845d3a4",
   "metadata": {},
   "outputs": [],
   "source": []
  }
 ],
 "metadata": {
  "kernelspec": {
   "display_name": "Python 3 (ipykernel)",
   "language": "python",
   "name": "python3"
  },
  "language_info": {
   "codemirror_mode": {
    "name": "ipython",
    "version": 3
   },
   "file_extension": ".py",
   "mimetype": "text/x-python",
   "name": "python",
   "nbconvert_exporter": "python",
   "pygments_lexer": "ipython3",
   "version": "3.10.12"
  }
 },
 "nbformat": 4,
 "nbformat_minor": 5
}
