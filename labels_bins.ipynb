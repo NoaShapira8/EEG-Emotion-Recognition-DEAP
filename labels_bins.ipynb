{
 "cells": [
  {
   "cell_type": "code",
   "execution_count": 1,
   "id": "399a4ae4-aadb-4761-9944-486cb02f2869",
   "metadata": {},
   "outputs": [],
   "source": [
    "from api import *\n",
    "import pandas as pd\n",
    "import numpy as np\n",
    "import pickle\n",
    "import os\n",
    "from sklearn.preprocessing import StandardScaler"
   ]
  },
  {
   "cell_type": "code",
   "execution_count": 2,
   "id": "29399849-a7c9-46e5-9e37-6158a82ce2f6",
   "metadata": {},
   "outputs": [],
   "source": [
    "emotion_dict = {0 : \"valence\", 1: \"arousal\", 2: \"dominance\", 3: \"liking\"}\n",
    "emotion_index = 0"
   ]
  },
  {
   "cell_type": "code",
   "execution_count": 50,
   "id": "c740662c-848e-47b4-8a78-02098d0e13f6",
   "metadata": {},
   "outputs": [
    {
     "name": "stdout",
     "output_type": "stream",
     "text": [
      "done person number : 1\n",
      "done person number : 2\n",
      "done person number : 3\n",
      "done person number : 4\n",
      "done person number : 5\n",
      "done person number : 6\n",
      "done person number : 7\n",
      "done person number : 8\n",
      "done person number : 9\n",
      "done person number : 10\n",
      "done person number : 11\n",
      "done person number : 12\n",
      "done person number : 13\n",
      "done person number : 14\n",
      "done person number : 15\n",
      "done person number : 16\n",
      "done person number : 17\n",
      "done person number : 18\n",
      "done person number : 19\n",
      "done person number : 20\n",
      "done person number : 21\n",
      "done person number : 22\n",
      "done person number : 23\n",
      "done person number : 24\n",
      "done person number : 25\n",
      "done person number : 26\n",
      "done person number : 27\n",
      "done person number : 28\n",
      "done person number : 29\n",
      "done person number : 30\n",
      "done person number : 31\n",
      "done person number : 32\n"
     ]
    }
   ],
   "source": [
    "# Define the base file path and the part that changes\n",
    "base_path = \"/home/nerlnet/data/persons_csvs/persons_normalize_valence/person\"\n",
    "end_path = \"_normalize_valence.csv\"\n",
    "\n",
    "directory = '/home/nerlnet/data/persons_csvs/persons_slots_valence'\n",
    "os.makedirs(directory, exist_ok=True)\n",
    "\n",
    "for i in range(1,33):\n",
    "    file_index = f\"{i:02}\"\n",
    "    file_path_1 = f\"{base_path}{file_index}{end_path}\"\n",
    "    person_valence_df = pd.read_csv(file_path_1, header = None)\n",
    "    person_valence_df = person_valence_df.astype('float32')\n",
    "    columns_features = person_valence_df.columns[:70]\n",
    "    columns_labels = person_valence_df.iloc[:, 70:]\n",
    "\n",
    "    for k, row in columns_labels.iterrows():\n",
    "        for j, val in enumerate(row):\n",
    "            if val == 0:\n",
    "                continue \n",
    "            if j == 8 and val == 1:\n",
    "                columns_labels.iat[k, j] = np.float32(0.95)\n",
    "                columns_labels.iat[k, j - 1] = np.float32(0.05)\n",
    "            elif j == 0 and val == 1:\n",
    "                columns_labels.iat[k, j] = np.float32(0.95)\n",
    "                columns_labels.iat[k, j + 1] = np.float32(0.05)\n",
    "            elif val == 1:\n",
    "                columns_labels.iat[k, j] = np.float32(0.9)\n",
    "                columns_labels.iat[k, j - 1] = np.float32(0.05)\n",
    "                columns_labels.iat[k, j + 1] = np.float32(0.05)\n",
    "                \n",
    "    df_slots = person_valence_df[columns_features].copy()\n",
    "\n",
    "    df_slots = pd.concat([df_slots,columns_labels.reset_index(drop=True)], axis=1)\n",
    "    filename = f'person{file_index}_slots_valence.csv'\n",
    "    filepath = os.path.join(directory, filename)\n",
    "    df_slots.to_csv(filepath, index = False, header = False)\n",
    "    print(f\"done person number : {i}\")"
   ]
  },
  {
   "cell_type": "code",
   "execution_count": 52,
   "id": "05764aa5-44bb-45df-8af6-93bc69f9b1bd",
   "metadata": {},
   "outputs": [],
   "source": [
    "person3_val_df = pd.DataFrame()\n",
    "for i in range(1,4):\n",
    "    file_index = f\"{i:02}\"\n",
    "   \n",
    "    file_path_1 = f'/home/nerlnet/data/persons_csvs/persons_slots_valence/person{file_index}_slots_valence.csv'\n",
    "    person_val_df = pd.read_csv(file_path_1, header = None)\n",
    "    person3_val_df = pd.concat([person3_val_df,person_val_df], axis = 0, ignore_index = True)\n",
    "\n",
    "\n",
    "\n",
    "directory = '/home/nerlnet/data/persons_csvs/persons_slots_valence'\n",
    "os.makedirs(directory, exist_ok=True)\n",
    "filename = f'1_3_persons_slots_valence.csv'\n",
    "filepath = os.path.join(directory, filename)\n",
    "person3_val_df.to_csv(filepath, index = False, header = False)"
   ]
  },
  {
   "cell_type": "code",
   "execution_count": 53,
   "id": "c1c4e3c2-e40c-40c0-84c9-efdd573eb1fd",
   "metadata": {},
   "outputs": [],
   "source": [
    "person12_val_df = person3_val_df\n",
    "for i in range(4,13):\n",
    "    file_index = f\"{i:02}\"\n",
    "   \n",
    "    file_path_1 = f'/home/nerlnet/data/persons_csvs/persons_slots_valence/person{file_index}_slots_valence.csv'\n",
    "    person_val_df = pd.read_csv(file_path_1, header = None)\n",
    "    person12_val_df = pd.concat([person12_val_df,person_val_df], axis = 0, ignore_index = True)\n",
    "\n",
    "\n",
    "\n",
    "directory = '/home/nerlnet/data/persons_csvs/persons_slots_valence'\n",
    "os.makedirs(directory, exist_ok=True)\n",
    "filename = f'12_persons_slots_valence.csv'\n",
    "filepath = os.path.join(directory, filename)\n",
    "person12_val_df.to_csv(filepath, index = False, header = False)"
   ]
  },
  {
   "cell_type": "code",
   "execution_count": 54,
   "id": "9a1a73ad-79b9-4581-b234-29cc21e25e6c",
   "metadata": {},
   "outputs": [],
   "source": [
    "person_full_val_df = person12_val_df\n",
    "for i in range(13,24):\n",
    "    file_index = f\"{i:02}\"\n",
    "   \n",
    "    file_path_1 = f'/home/nerlnet/data/persons_csvs/persons_slots_valence/person{file_index}_slots_valence.csv'\n",
    "    person_val_df = pd.read_csv(file_path_1, header = None)\n",
    "    person_full_val_df = pd.concat([person_full_val_df,person_val_df], axis = 0, ignore_index = True)"
   ]
  },
  {
   "cell_type": "code",
   "execution_count": 55,
   "id": "1bba5e49-8f6d-4298-b4f0-964d3dabbc70",
   "metadata": {},
   "outputs": [],
   "source": [
    "for i in range(24,33):\n",
    "    file_index = f\"{i:02}\"\n",
    "   \n",
    "    file_path_1 = f'/home/nerlnet/data/persons_csvs/persons_slots_valence/person{file_index}_slots_valence.csv'\n",
    "    person_val_df = pd.read_csv(file_path_1, header = None)\n",
    "    person_full_val_df = pd.concat([person_full_val_df,person_val_df], axis = 0, ignore_index = True)\n"
   ]
  },
  {
   "cell_type": "code",
   "execution_count": 57,
   "id": "bcafd1d6-ff6f-46f1-94a7-45a6e8ea9405",
   "metadata": {},
   "outputs": [],
   "source": [
    "directory = '/home/nerlnet/data/persons_csvs/persons_slots_valence'\n",
    "os.makedirs(directory, exist_ok=True)\n",
    "filename = f'full_persons_slots_valence.csv'\n",
    "filepath = os.path.join(directory, filename)\n",
    "person_full_val_df.to_csv(filepath, index = False, header = False)"
   ]
  },
  {
   "cell_type": "code",
   "execution_count": null,
   "id": "3eb52d24-c321-4ec8-b396-63d7f81c825b",
   "metadata": {},
   "outputs": [],
   "source": []
  }
 ],
 "metadata": {
  "kernelspec": {
   "display_name": "Python 3 (ipykernel)",
   "language": "python",
   "name": "python3"
  },
  "language_info": {
   "codemirror_mode": {
    "name": "ipython",
    "version": 3
   },
   "file_extension": ".py",
   "mimetype": "text/x-python",
   "name": "python",
   "nbconvert_exporter": "python",
   "pygments_lexer": "ipython3",
   "version": "3.10.12"
  }
 },
 "nbformat": 4,
 "nbformat_minor": 5
}
