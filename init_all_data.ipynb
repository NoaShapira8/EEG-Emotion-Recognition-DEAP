{
 "cells": [
  {
   "cell_type": "code",
   "execution_count": 1,
   "id": "20eb570f-4aab-475b-9701-297b4d5caa28",
   "metadata": {},
   "outputs": [],
   "source": [
    "import pandas as pd\n",
    "import pickle\n",
    "import os\n",
    "import numpy as np\n",
    "\n",
    "dfs = [] # list of df\n",
    "for i in range(1, 33):\n",
    "    file_path = f'./deap_orig/data_preprocessed_python/s{i:02d}.dat'\n",
    "    # Load the .dat file\n",
    "    with open(file_path, 'rb') as file:\n",
    "        database = pickle.load(file, encoding='latin1')  # Adjust encoding as necessary\n",
    "    \n",
    "    # Check the type of the data loaded\n",
    "    data = database['data']\n",
    "    label = database['labels']\n",
    "\n",
    "    # Prepare data\n",
    "    data = data.transpose(0, 2, 1)\n",
    "    reshape_data = data.reshape(-1, data.shape[2])\n",
    "    data_df = pd.DataFrame(reshape_data)\n",
    "\n",
    "    # Prepare labels\n",
    "    repeated_label = np.repeat(label, 8064, axis=0) # Repeat each row 8064 times\n",
    "    label_df = pd.DataFrame(repeated_label)\n",
    "    # Concatenate DataFrames along the columns axis (axis=1) for every single person \n",
    "    df = pd.concat([data_df, label_df], axis=1, ignore_index=True)\n",
    "    dfs.append(df)"
   ]
  },
  {
   "cell_type": "code",
   "execution_count": 2,
   "id": "e53eabec-0ed3-4014-b53f-72940cda7b22",
   "metadata": {},
   "outputs": [],
   "source": [
    "combined_df = pd.concat(dfs, ignore_index=True) # concate all persons "
   ]
  },
  {
   "cell_type": "code",
   "execution_count": 3,
   "id": "57d3c114-9a0e-4f00-9677-a99a98fd4888",
   "metadata": {},
   "outputs": [
    {
     "data": {
      "text/plain": [
       "(10321920, 44)"
      ]
     },
     "execution_count": 3,
     "metadata": {},
     "output_type": "execute_result"
    }
   ],
   "source": [
    "combined_df.shape"
   ]
  }
 ],
 "metadata": {
  "kernelspec": {
   "display_name": "Python 3 (ipykernel)",
   "language": "python",
   "name": "python3"
  },
  "language_info": {
   "codemirror_mode": {
    "name": "ipython",
    "version": 3
   },
   "file_extension": ".py",
   "mimetype": "text/x-python",
   "name": "python",
   "nbconvert_exporter": "python",
   "pygments_lexer": "ipython3",
   "version": "3.10.12"
  }
 },
 "nbformat": 4,
 "nbformat_minor": 5
}
