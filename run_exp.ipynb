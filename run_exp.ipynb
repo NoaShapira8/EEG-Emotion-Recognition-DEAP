{
 "cells": [
  {
   "cell_type": "code",
   "execution_count": 1,
   "id": "e8adbc68-7af6-4f01-a24a-182ebd48e185",
   "metadata": {},
   "outputs": [],
   "source": [
    "from api import *\n",
    "import pandas as pd\n",
    "import numpy as np\n",
    "import pickle\n",
    "import os\n",
    "import matplotlib.pyplot as plt"
   ]
  },
  {
   "cell_type": "code",
   "execution_count": null,
   "id": "7400b5ef-42da-42eb-92b3-84d52552f410",
   "metadata": {},
   "outputs": [],
   "source": [
    "api = Api()"
   ]
  },
  {
   "cell_type": "code",
   "execution_count": null,
   "id": "c6b965dd-4cc0-462a-bef1-abb5ac13c1ac",
   "metadata": {},
   "outputs": [],
   "source": [
    "api.get_persons()"
   ]
  },
  {
   "cell_type": "code",
   "execution_count": null,
   "id": "12dbeb78-ce74-4d32-97ba-dcf2c6f1882d",
   "metadata": {},
   "outputs": [],
   "source": [
    "person1 = api.get_person(1)"
   ]
  },
  {
   "cell_type": "code",
   "execution_count": null,
   "id": "266f3321-bdcb-47e4-bc51-0f5ba459029d",
   "metadata": {},
   "outputs": [],
   "source": [
    "person1.get_videos()"
   ]
  },
  {
   "cell_type": "code",
   "execution_count": null,
   "id": "4e2eee55-3efa-45be-82ea-ada76b0e4f2f",
   "metadata": {},
   "outputs": [],
   "source": [
    "video1_1 = person1.get_video(1)"
   ]
  },
  {
   "cell_type": "code",
   "execution_count": null,
   "id": "f36d313e-7245-472d-83f6-9e8fe4a56261",
   "metadata": {},
   "outputs": [],
   "source": [
    "data1_1 = video1_1.get_data()\n",
    "print(data1_1.shape)\n",
    "# Plot firt video time signal for every channel\n",
    "print(data1_1.columns)\n",
    "for index , column in enumerate(data1_1.columns):\n",
    "    plt.figure(figsize=(10, 6))\n",
    "    plt.plot(data1_1.iloc[:, index].head(1400))\n",
    "    plt.title(f\"Plot of the {column} Column\")\n",
    "    plt.xlabel('rows')\n",
    "    plt.ylabel('magnitude')\n",
    "    plt.grid(True)\n",
    "    plt.show()"
   ]
  },
  {
   "cell_type": "code",
   "execution_count": null,
   "id": "155ecc84-6b15-418f-a245-2a776a8600e3",
   "metadata": {
    "scrolled": true
   },
   "outputs": [],
   "source": [
    "# download csv\n",
    "directory = '~/data'\n",
    "filename = 'my_csv.csv'\n",
    "filepath = os.path.join(directory, filename)\n",
    "data1_1.iloc[:1280,:].to_csv(filepath, index = False)"
   ]
  },
  {
   "cell_type": "code",
   "execution_count": null,
   "id": "683c66fd-e4b6-4fcb-86bf-caf19663a535",
   "metadata": {},
   "outputs": [],
   "source": [
    "num_samples = 256\n",
    "window_size = 256\n",
    "seconds = 2\n",
    "sample_rate = window_size // seconds\n",
    "column_data = data1_1.iloc[:num_samples, 1]\n",
    "fft_result = np.fft.fft(column_data)\n",
    "fft_magnitude = np.abs(fft_result)\n",
    "frequencies = np.fft.fftfreq(len(column_data), d = 1/ sample_rate)\n",
    "\n",
    "# Plot the FFT result\n",
    "plt.figure(figsize=(10, 6))\n",
    "plt.plot(frequencies[0:num_samples // 2], fft_magnitude[0:num_samples // 2])  # Plot only positive frequencies\n",
    "plt.title(\"FFT of the '1' Column\")\n",
    "plt.xlabel('Frequency')\n",
    "plt.ylabel('Magnitude')\n",
    "plt.grid(True)\n",
    "plt.show()"
   ]
  },
  {
   "cell_type": "code",
   "execution_count": null,
   "id": "bebb68f6-b9a8-44e4-a101-959af5550723",
   "metadata": {},
   "outputs": [],
   "source": [
    "channel1_1_1 = video1_1.get_channel(1)"
   ]
  },
  {
   "cell_type": "code",
   "execution_count": null,
   "id": "a789239b-ad1c-4050-8bcb-5fa7b6b39690",
   "metadata": {},
   "outputs": [],
   "source": [
    "channel1_data = channel1_1_1.get_channel_data()\n",
    "channel1_data = channel1_data.iloc[0:256]"
   ]
  },
  {
   "cell_type": "code",
   "execution_count": null,
   "id": "67168e01-462b-43b5-97f0-37e17ebbf076",
   "metadata": {},
   "outputs": [],
   "source": [
    "window1 = channel1_1_1.perform_fft(channel1_data)\n",
    "channel1_1_1.add_window(1,window1)\n",
    "window1_inst = channel1_1_1.get_window(1)\n",
    "window1_inst"
   ]
  },
  {
   "cell_type": "code",
   "execution_count": null,
   "id": "762ce16e-aaee-4870-bd61-b9219e47856e",
   "metadata": {},
   "outputs": [],
   "source": [
    "\n",
    "sampling_rate = 128\n",
    "\n",
    "# Define frequency ranges for EEG bands in Hz\n",
    "freq_bands = {\n",
    "    'delta': (0.5, 4),\n",
    "    'theta': (4, 8),\n",
    "    'alpha': (8, 12),\n",
    "    'beta': (12, 30),\n",
    "    'gamma': (30, 80)\n",
    "}\n",
    "\n",
    "# Calculate FFT frequencies\n",
    "fft_freqs = np.fft.fftfreq(sampling_rate, d=1/sampling_rate)\n",
    "\n",
    "# Initialize arrays to store band sums and band names\n",
    "band_sums = {band: 0 for band in freq_bands}\n",
    "\n",
    "# Aggregate magnitudes in each band\n",
    "for band, (low, high) in freq_bands.items():\n",
    "    band_indices = np.where((fft_freqs >= low) & (fft_freqs < high))\n",
    "    band_magnitudes = window1.iloc[band_indices].values\n",
    "    band_sums[band] = np.sum(band_magnitudes)\n",
    "    \n",
    "print(band_sums)"
   ]
  },
  {
   "cell_type": "code",
   "execution_count": null,
   "id": "a3739ded-c921-4113-9500-06cb1a93dac5",
   "metadata": {},
   "outputs": [],
   "source": [
    "window1_inst.aggregate_frequency_bands()\n",
    "window1_inst.get_frequency_bands()"
   ]
  },
  {
   "cell_type": "code",
   "execution_count": null,
   "id": "b2b40bed-d0aa-4810-9fc3-96536969a83f",
   "metadata": {},
   "outputs": [],
   "source": [
    "print(window1_inst.get_frequency_bands_values())"
   ]
  },
  {
   "cell_type": "code",
   "execution_count": null,
   "id": "528c3ee0-35df-48b7-8804-01cf0ae4647c",
   "metadata": {},
   "outputs": [],
   "source": []
  }
 ],
 "metadata": {
  "kernelspec": {
   "display_name": "Python 3 (ipykernel)",
   "language": "python",
   "name": "python3"
  },
  "language_info": {
   "codemirror_mode": {
    "name": "ipython",
    "version": 3
   },
   "file_extension": ".py",
   "mimetype": "text/x-python",
   "name": "python",
   "nbconvert_exporter": "python",
   "pygments_lexer": "ipython3",
   "version": "3.10.12"
  }
 },
 "nbformat": 4,
 "nbformat_minor": 5
}
