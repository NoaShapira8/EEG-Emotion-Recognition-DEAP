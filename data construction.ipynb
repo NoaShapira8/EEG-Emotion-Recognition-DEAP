{
 "cells": [
  {
   "cell_type": "code",
   "execution_count": 1,
   "id": "5d429aa0-4760-4d29-b0af-ffb9033b8315",
   "metadata": {},
   "outputs": [],
   "source": [
    "import pandas as pd\n",
    "import pickle\n",
    "import os\n",
    "import numpy as np\n",
    "\n",
    "# Define the relative file path\n",
    "file_path = './deap_orig/data_preprocessed_python/s01.dat'\n",
    "# Load the .dat file\n",
    "with open(file_path, 'rb') as file:\n",
    "    database = pickle.load(file, encoding='latin1')  # Adjust encoding as necessary\n",
    "\n",
    "# Check the type of the data loaded\n",
    "data = database['data']\n",
    "label = database['labels']"
   ]
  },
  {
   "cell_type": "raw",
   "id": "9e1daed1-6ccd-423b-b183-780647177645",
   "metadata": {},
   "source": [
    "Preparation of the data - take one video "
   ]
  },
  {
   "cell_type": "code",
   "execution_count": 2,
   "id": "e1cd9f49-7f1c-4f6f-bd31-35faabf9b124",
   "metadata": {},
   "outputs": [
    {
     "name": "stdout",
     "output_type": "stream",
     "text": [
      "original data shape: (40, 40, 8064)\n",
      "first video final shape: (8064, 40)\n"
     ]
    }
   ],
   "source": [
    "print(f\"original data shape: {data.shape}\")\n",
    "first_video = data[1]\n",
    "first_video_df = pd.DataFrame(first_video)\n",
    "first_video_df = first_video_df.T\n",
    "print(f\"first video final shape: {first_video_df.shape}\")\n",
    "#first_video_df"
   ]
  },
  {
   "cell_type": "raw",
   "id": "9259b9e0-66ef-4ec5-820f-9ed789395808",
   "metadata": {},
   "source": [
    "We wants to work with specific 14 channels according to the channel selection in thr Article (Table 1).\n",
    "AF3 - 1 , F3 - 2 , F7 - 3 , FC5 - 4 , T4 - 7 , P7 - 11 , O0 - 13 , AF4 - 17 , F4 - 19 , F8 - 20 , FC6 - 21 , T8 - 25 , P8 - 28 , 02 - 31  (Channel content , DEAP index)"
   ]
  },
  {
   "cell_type": "code",
   "execution_count": 3,
   "id": "c4edd696-aeea-4161-afe3-0f3585c44a18",
   "metadata": {},
   "outputs": [],
   "source": [
    "def select_columns(df, columns_to_keep):\n",
    "    \"\"\"\n",
    "    Select specific columns from a DataFrame.\n",
    "    \n",
    "    Parameters:\n",
    "    df (pd.DataFrame): The original DataFrame.\n",
    "    columns_to_keep (list of int): List of column indices to keep.\n",
    "    \n",
    "    Returns:\n",
    "    pd.DataFrame: New DataFrame with only the specified columns.\n",
    "    \"\"\"\n",
    "    return df.iloc[:, columns_to_keep]"
   ]
  },
  {
   "cell_type": "code",
   "execution_count": 4,
   "id": "1ff97ea6-d27c-481c-9ebf-844d09e9ea64",
   "metadata": {},
   "outputs": [
    {
     "name": "stdout",
     "output_type": "stream",
     "text": [
      "(8064, 14)\n"
     ]
    }
   ],
   "source": [
    "columns_to_keep = [1, 2, 3, 4, 7, 11, 13, 17, 19, 20, 21, 25, 28, 31]\n",
    "new_combined_df = select_columns(first_video_df, columns_to_keep)\n",
    "\n",
    "print(new_combined_df.shape)  # This should print (322560, 18) because we selected 14 columns\n",
    "#new_combined_df"
   ]
  },
  {
   "cell_type": "raw",
   "id": "9b602bd5-86fc-430e-afac-1202fb89879a",
   "metadata": {},
   "source": [
    "A bandpass frequency filter from 4.0-45.0Hz\n",
    "five frequency bands: delta (1–3 Hz) ,Theta-θ (4–7 Hz), Alpha-α (8–13 Hz), Beta-β (14–30 Hz) and Gamma-γ (31–50 Hz)."
   ]
  },
  {
   "cell_type": "raw",
   "id": "3bdee59a-9994-45a9-8823-abc7ba023e6c",
   "metadata": {},
   "source": [
    "Create the data frame for the first video - 8064 samples on 70 features (14 channels * 5 frequency bands)"
   ]
  },
  {
   "cell_type": "code",
   "execution_count": 5,
   "id": "71d8ddb1-5503-4ad3-a0b7-6d845bd89dba",
   "metadata": {},
   "outputs": [
    {
     "name": "stdout",
     "output_type": "stream",
     "text": [
      "result video df shape: (8064, 70)\n"
     ]
    }
   ],
   "source": [
    "\n",
    "num_columns = 70\n",
    "num_groups = num_columns // 5  # Each group contains 5 columns with the same name prefix\n",
    "\n",
    "# Create a list of column names based on your pattern\n",
    "column_names = []\n",
    "for i in range(num_groups):\n",
    "    column_names.extend([f'Delta {i+1}', f'Theta {i+1}', f'Alpha {i+1}', f'Beta {i+1}', f'Gamma {i+1}'])\n",
    "\n",
    "# Initialize an empty DataFrame for the results\n",
    "result_video_df = pd.DataFrame()\n",
    "\n",
    "# iterate on all the 14 channels\n",
    "for channel in new_combined_df.columns:\n",
    "    channel_column = new_combined_df[channel]\n",
    "    amount_of_samples = len(channel_column)\n",
    "    result_channel_df = pd.DataFrame(np.zeros((amount_of_samples, 5)), columns=['Delta', 'Theta', 'Alpha', 'Beta', 'Gamma'])\n",
    "    segment_counter = 0\n",
    "    # Process each 64 samples (128 Hz)\n",
    "    for i in range(0, amount_of_samples, 64):\n",
    "        for k in range(64):\n",
    "            if 4 <= k <= 7: # Theta\n",
    "                result_channel_df.iloc[k + 64 * segment_counter, 1] = channel_column[k + 64 * segment_counter]\n",
    "            elif 8 <= k <= 13: # Alpha\n",
    "                result_channel_df.iloc[k + 64 * segment_counter, 2] = channel_column[k + 64 * segment_counter]\n",
    "            elif 14 <= k <= 30: # Beta\n",
    "                result_channel_df.iloc[k + 64 * segment_counter, 3] = channel_column[k + 64 * segment_counter]\n",
    "            elif 31 <= k <= 45: # Gamma\n",
    "                result_channel_df.iloc[k + 64 * segment_counter, 4] = channel_column[k + 64 * segment_counter]\n",
    "                \n",
    "        segment_counter += 1\n",
    "        \n",
    "    # Concatenate along columns (axis=1)\n",
    "    result_video_df = pd.concat([result_video_df, result_channel_df], axis=1)\n",
    "    \n",
    "result_video_df.columns = column_names\n",
    "print(f\"result video df shape: {result_video_df.shape}\")\n",
    "#result_video_df"
   ]
  },
  {
   "cell_type": "code",
   "execution_count": null,
   "id": "c76ebf87-2d8e-45af-b6f9-4d3b9cae741d",
   "metadata": {},
   "outputs": [],
   "source": []
  }
 ],
 "metadata": {
  "kernelspec": {
   "display_name": "Python 3 (ipykernel)",
   "language": "python",
   "name": "python3"
  },
  "language_info": {
   "codemirror_mode": {
    "name": "ipython",
    "version": 3
   },
   "file_extension": ".py",
   "mimetype": "text/x-python",
   "name": "python",
   "nbconvert_exporter": "python",
   "pygments_lexer": "ipython3",
   "version": "3.10.12"
  }
 },
 "nbformat": 4,
 "nbformat_minor": 5
}
