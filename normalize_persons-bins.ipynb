{
 "cells": [
  {
   "cell_type": "code",
   "execution_count": 1,
   "id": "f6a7c3fb-2682-4c7c-9328-f0c81d0a4972",
   "metadata": {},
   "outputs": [],
   "source": [
    "from api import *\n",
    "import pandas as pd\n",
    "import numpy as np\n",
    "import pickle\n",
    "import os\n",
    "from sklearn.preprocessing import StandardScaler"
   ]
  },
  {
   "cell_type": "code",
   "execution_count": 2,
   "id": "1e2ecb8a-42ba-4dac-b535-11e0d7ff8b76",
   "metadata": {},
   "outputs": [],
   "source": [
    "emotion_dict = {0 : \"valence\", 1: \"arousal\", 2: \"dominance\", 3: \"liking\"}\n",
    "emotion_index = 0"
   ]
  },
  {
   "cell_type": "code",
   "execution_count": 3,
   "id": "4aa9e7e8-ddfa-467c-9ac1-77966b213f5e",
   "metadata": {},
   "outputs": [],
   "source": [
    "def normalize_bin_func(df, i):\n",
    "    # Assuming df is your DataFrame\n",
    "    selected_columns = list(range(i, 70, 5))  # Columns 0, 5, 10, ..., 70\n",
    "    \n",
    "    # Print selected columns for debugging\n",
    "    #print(f\"Normalizing columns: {selected_columns}\")\n",
    "    \n",
    "    # Extract the selected columns data\n",
    "    data_to_normalize = df.iloc[:, selected_columns]\n",
    "    \n",
    "    # Print extracted data before normalization for debugging\n",
    "    #print(f\"Data before normalization:\\n{data_to_normalize.head()}\")\n",
    "    \n",
    "    # Calculate the mean and std deviation across all selected columns together\n",
    "    combined_mean = data_to_normalize.values.mean()\n",
    "    combined_std = data_to_normalize.values.std()\n",
    "\n",
    "    # Print mean and std deviation for debugging\n",
    "    #print(f\"Mean: {combined_mean}, Std: {combined_std}\")\n",
    "\n",
    "    # Apply z-score normalization: (x - mean) / std\n",
    "    normalized_data = (data_to_normalize - combined_mean) / combined_std\n",
    "    #print(f\"Normalized data for columns {selected_columns}:\\n{normalized_data}\")\n",
    "    \n",
    "    # Ensure the normalization result is assigned back correctly\n",
    "    df = df.copy()  # This ensures you're working with a copy, not a view\n",
    "    df.iloc[:, selected_columns] = normalized_data\n",
    "    #print(f\"Normalized data for:\\n{df}\")\n",
    "    \n",
    "    return df\n",
    "    "
   ]
  },
  {
   "cell_type": "code",
   "execution_count": 4,
   "id": "94c2452b-f567-41e4-b326-18581f97dcb4",
   "metadata": {},
   "outputs": [
    {
     "name": "stdout",
     "output_type": "stream",
     "text": [
      "done normalize person number : 1\n",
      "done normalize person number : 2\n",
      "done normalize person number : 3\n",
      "done normalize person number : 4\n",
      "done normalize person number : 5\n",
      "done normalize person number : 6\n",
      "done normalize person number : 7\n",
      "done normalize person number : 8\n",
      "done normalize person number : 9\n",
      "done normalize person number : 10\n",
      "done normalize person number : 11\n",
      "done normalize person number : 12\n",
      "done normalize person number : 13\n",
      "done normalize person number : 14\n",
      "done normalize person number : 15\n",
      "done normalize person number : 16\n",
      "done normalize person number : 17\n",
      "done normalize person number : 18\n",
      "done normalize person number : 19\n",
      "done normalize person number : 20\n",
      "done normalize person number : 21\n",
      "done normalize person number : 22\n",
      "done normalize person number : 23\n",
      "done normalize person number : 24\n",
      "done normalize person number : 25\n",
      "done normalize person number : 26\n",
      "done normalize person number : 27\n",
      "done normalize person number : 28\n",
      "done normalize person number : 29\n",
      "done normalize person number : 30\n",
      "done normalize person number : 31\n",
      "done normalize person number : 32\n"
     ]
    }
   ],
   "source": [
    "# Define the base file path and the part that changes\n",
    "base_path = \"/home/nerlnet/data/persons_csvs/persons_valence/person_nerlnet\"\n",
    "end_path = \"_valence.csv\"\n",
    "\n",
    "directory = '/home/nerlnet/data/persons_csvs/persons_normalize_bins_valence'\n",
    "os.makedirs(directory, exist_ok=True)\n",
    "\n",
    "for i in range(1,33):\n",
    "    file_index = f\"{i:02}\"\n",
    "    file_path_1 = f\"{base_path}{file_index}{end_path}\"\n",
    "    person_valence_df = pd.read_csv(file_path_1)\n",
    "    person_valence_df = person_valence_df.astype('float32')\n",
    "    columns_to_normalize = person_valence_df.columns[:70]\n",
    "    columns_to_keep = person_valence_df.columns[70:]\n",
    "\n",
    "    df_normalized = person_valence_df[columns_to_normalize].copy()\n",
    "\n",
    "    for j in range(5):  # j = 0, 1, 2, 3, 4\n",
    "        df_normalized = normalize_bin_func(df_normalized, j)\n",
    "\n",
    "    df_normalized = pd.concat([df_normalized,person_valence_df[columns_to_keep].reset_index(drop=True)], axis=1)\n",
    "    filename = f'person{file_index}_normalize_bins_valence.csv'\n",
    "    filepath = os.path.join(directory, filename)\n",
    "    df_normalized.to_csv(filepath, index = False, header = False)\n",
    "    print(f\"done normalize person number : {i}\")"
   ]
  },
  {
   "cell_type": "code",
   "execution_count": 5,
   "id": "7005eb10-0588-4bec-8b68-3b8ece80f967",
   "metadata": {},
   "outputs": [],
   "source": [
    "person3_val_norm_df = pd.DataFrame()\n",
    "for i in range(1,4):\n",
    "    file_index = f\"{i:02}\"\n",
    "   \n",
    "    file_path_1 = f'/home/nerlnet/data/persons_csvs/persons_normalize_bins_valence/person{file_index}_normalize_bins_valence.csv'\n",
    "    person_val_df = pd.read_csv(file_path_1, header = None)\n",
    "    person3_val_norm_df = pd.concat([person3_val_norm_df,person_val_df], axis = 0, ignore_index = True)\n",
    "\n",
    "directory = '/home/nerlnet/data/persons_csvs/persons_normalize_bins_valence'\n",
    "os.makedirs(directory, exist_ok=True)\n",
    "filename = f'1_3_persons_normalize_bins_valence.csv'\n",
    "filepath = os.path.join(directory, filename)\n",
    "person3_val_norm_df.to_csv(filepath, index = False, header = False)"
   ]
  },
  {
   "cell_type": "code",
   "execution_count": 6,
   "id": "a6d4c43e-cfa2-4bef-9d88-6076ed9dd9b3",
   "metadata": {},
   "outputs": [],
   "source": [
    "persons12_val_norm_df = pd.DataFrame()\n",
    "for i in range(1,13):\n",
    "    file_index = f\"{i:02}\"\n",
    "    file_path_1 = f'/home/nerlnet/data/persons_csvs/persons_normalize_bins_valence/person{file_index}_normalize_bins_valence.csv'\n",
    "    person_val_df = pd.read_csv(file_path_1, header = None)\n",
    "    persons12_val_norm_df = pd.concat([persons12_val_norm_df,person_val_df], axis = 0, ignore_index = True)\n",
    "\n",
    "directory = '/home/nerlnet/data/persons_csvs/persons_normalize_bins_valence'\n",
    "os.makedirs(directory, exist_ok=True)\n",
    "filename = f'12_persons_normalize_bins_valence.csv'\n",
    "filepath = os.path.join(directory, filename)\n",
    "persons12_val_norm_df.to_csv(filepath, index = False, header = False)"
   ]
  },
  {
   "cell_type": "code",
   "execution_count": 7,
   "id": "23c09331-8cd2-47a8-8ad2-20d593e6a506",
   "metadata": {},
   "outputs": [],
   "source": [
    "persons_val_norm_df = persons12_val_norm_df\n",
    "for i in range(13,24):\n",
    "    file_index = f\"{i:02}\"\n",
    "    file_path_1 = f'/home/nerlnet/data/persons_csvs/persons_normalize_bins_valence/person{file_index}_normalize_bins_valence.csv'\n",
    "    person_val_df = pd.read_csv(file_path_1, header = None)\n",
    "    persons_val_norm_df = pd.concat([persons_val_norm_df,person_val_df], axis = 0, ignore_index = True)\n",
    "\n",
    "directory = '/home/nerlnet/data/persons_csvs/persons_normalize_bins_valence'\n",
    "os.makedirs(directory, exist_ok=True)\n",
    "filename = f'full_persons_normalize_bins_valence.csv'\n",
    "filepath = os.path.join(directory, filename)\n",
    "persons_val_norm_df.to_csv(filepath, index = False, header = False)"
   ]
  },
  {
   "cell_type": "code",
   "execution_count": 9,
   "id": "7ad36d7e-4086-4a7e-a6fd-391fa03a35fc",
   "metadata": {},
   "outputs": [],
   "source": [
    "for i in range(24,33):\n",
    "    file_index = f\"{i:02}\"\n",
    "    file_path_1 = f'/home/nerlnet/data/persons_csvs/persons_normalize_bins_valence/person{file_index}_normalize_bins_valence.csv'\n",
    "    person_val_df = pd.read_csv(file_path_1, header = None)\n",
    "    persons_val_norm_df = pd.concat([persons_val_norm_df,person_val_df], axis = 0, ignore_index = True)\n",
    "\n",
    "directory = '/home/nerlnet/data/persons_csvs/persons_normalize_bins_valence'\n",
    "os.makedirs(directory, exist_ok=True)\n",
    "filename = f'full_persons_normalize_bins_valence.csv'\n",
    "filepath = os.path.join(directory, filename)\n",
    "persons_val_norm_df.to_csv(filepath, index = False, header = False)"
   ]
  },
  {
   "cell_type": "code",
   "execution_count": null,
   "id": "fc90f2a2-b1a5-4d30-9c22-1298f795975c",
   "metadata": {},
   "outputs": [],
   "source": []
  }
 ],
 "metadata": {
  "kernelspec": {
   "display_name": "Python 3 (ipykernel)",
   "language": "python",
   "name": "python3"
  },
  "language_info": {
   "codemirror_mode": {
    "name": "ipython",
    "version": 3
   },
   "file_extension": ".py",
   "mimetype": "text/x-python",
   "name": "python",
   "nbconvert_exporter": "python",
   "pygments_lexer": "ipython3",
   "version": "3.10.12"
  }
 },
 "nbformat": 4,
 "nbformat_minor": 5
}
