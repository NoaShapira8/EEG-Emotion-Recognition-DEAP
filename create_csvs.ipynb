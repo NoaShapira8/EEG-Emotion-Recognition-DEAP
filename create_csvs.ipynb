{
 "cells": [
  {
   "cell_type": "code",
   "execution_count": 1,
   "id": "ceca49f5-1a68-486d-bbef-1804f9f4d150",
   "metadata": {},
   "outputs": [],
   "source": [
    "from api import *\n",
    "import pandas as pd\n",
    "import numpy as np\n",
    "import pickle\n",
    "import os\n",
    "import matplotlib.pyplot as plt"
   ]
  },
  {
   "cell_type": "code",
   "execution_count": 2,
   "id": "52907f86-c79d-4d66-85b7-fe6d6439aec7",
   "metadata": {},
   "outputs": [],
   "source": [
    "api = Api()   # including create persons inst and videos and channels instances"
   ]
  },
  {
   "cell_type": "code",
   "execution_count": 3,
   "id": "23ac92ea-ff15-44c0-a051-335898e3e61c",
   "metadata": {},
   "outputs": [
    {
     "name": "stdout",
     "output_type": "stream",
     "text": [
      "Done create windows for person: 23\n",
      "Done create windows for person: 24\n",
      "Done create windows for person: 25\n",
      "Done create windows for person: 26\n",
      "Done create windows for person: 27\n",
      "Done create windows for person: 28\n",
      "Done create windows for person: 29\n",
      "Done create windows for person: 30\n",
      "Done create windows for person: 31\n",
      "Done create windows for person: 32\n"
     ]
    }
   ],
   "source": [
    "for person_index in range(23,33):\n",
    "    person_inst = api.get_person(person_index)\n",
    "    person_inst.create_windows_for_videos()\n",
    "    print(f\"Done create windows for person: {person_index}\")"
   ]
  },
  {
   "cell_type": "code",
   "execution_count": null,
   "id": "c6a33ed1-c24d-42c3-8afd-159673dccbcd",
   "metadata": {},
   "outputs": [],
   "source": [
    "for person_index in range(23,33):\n",
    "    df_person = api.create_person_df(person_index)\n",
    "    print(f\"Done create df for person: {person_index}\")\n",
    "    directory = '~/data/persons_csvs'\n",
    "    os.makedirs(directory, exist_ok=True)\n",
    "    filename = f'person{person_index:02d}.csv'\n",
    "    filepath = os.path.join(directory, filename)\n",
    "    df_person.to_csv(filepath, index = False)\n",
    "    print(f\"Done create csv for person: {person_index}\")"
   ]
  },
  {
   "cell_type": "code",
   "execution_count": null,
   "id": "ebc5f33b-d129-4762-8599-39515957a4f6",
   "metadata": {},
   "outputs": [],
   "source": []
  }
 ],
 "metadata": {
  "kernelspec": {
   "display_name": "Python 3 (ipykernel)",
   "language": "python",
   "name": "python3"
  },
  "language_info": {
   "codemirror_mode": {
    "name": "ipython",
    "version": 3
   },
   "file_extension": ".py",
   "mimetype": "text/x-python",
   "name": "python",
   "nbconvert_exporter": "python",
   "pygments_lexer": "ipython3",
   "version": "3.10.12"
  }
 },
 "nbformat": 4,
 "nbformat_minor": 5
}
