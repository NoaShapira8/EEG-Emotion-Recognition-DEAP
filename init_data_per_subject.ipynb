{
 "cells": [
  {
   "cell_type": "code",
   "execution_count": 1,
   "id": "e999574d-451c-4c18-bda1-04e1d28c7b5b",
   "metadata": {},
   "outputs": [],
   "source": [
    "import pandas as pd\n",
    "import pickle\n",
    "import os\n",
    "import numpy as np\n",
    "\n",
    "# Define the relative file path\n",
    "file_path = './deap_orig/data_preprocessed_python/s01.dat'\n",
    "# Load the .dat file\n",
    "with open(file_path, 'rb') as file:\n",
    "    database = pickle.load(file, encoding='latin1')  # Adjust encoding as necessary\n",
    "\n",
    "# Check the type of the data loaded\n",
    "data = database['data']\n",
    "label = database['labels']"
   ]
  },
  {
   "cell_type": "code",
   "execution_count": 2,
   "id": "772fd77b-d691-4054-8428-efc647507942",
   "metadata": {},
   "outputs": [
    {
     "data": {
      "text/plain": [
       "(40, 40, 8064)"
      ]
     },
     "execution_count": 2,
     "metadata": {},
     "output_type": "execute_result"
    }
   ],
   "source": [
    "data.shape"
   ]
  },
  {
   "cell_type": "code",
   "execution_count": 3,
   "id": "a060e5b9-e6da-4ad8-a01a-c4726845d3a4",
   "metadata": {},
   "outputs": [
    {
     "data": {
      "text/plain": [
       "(40, 8064, 40)"
      ]
     },
     "execution_count": 3,
     "metadata": {},
     "output_type": "execute_result"
    }
   ],
   "source": [
    "data = data.transpose(0, 2, 1)\n",
    "data.shape"
   ]
  },
  {
   "cell_type": "code",
   "execution_count": 4,
   "id": "6de40c17-c397-480a-beb4-feedc0de346f",
   "metadata": {},
   "outputs": [],
   "source": [
    "reshape_data = data.reshape(-1, data.shape[2])"
   ]
  },
  {
   "cell_type": "code",
   "execution_count": 5,
   "id": "7a5fa792-376f-433f-80a3-91080177ec0a",
   "metadata": {},
   "outputs": [
    {
     "data": {
      "text/plain": [
       "(322560, 40)"
      ]
     },
     "execution_count": 5,
     "metadata": {},
     "output_type": "execute_result"
    }
   ],
   "source": [
    "reshape_data.shape"
   ]
  },
  {
   "cell_type": "code",
   "execution_count": 6,
   "id": "4da25a32-caa8-4eda-8a58-cccb7316de6f",
   "metadata": {},
   "outputs": [],
   "source": [
    "df = pd.DataFrame(reshape_data)"
   ]
  },
  {
   "cell_type": "code",
   "execution_count": null,
   "id": "40896075-ffc3-4a12-a9c7-2fe2c6360fc6",
   "metadata": {},
   "outputs": [],
   "source": []
  }
 ],
 "metadata": {
  "kernelspec": {
   "display_name": "Python 3 (ipykernel)",
   "language": "python",
   "name": "python3"
  },
  "language_info": {
   "codemirror_mode": {
    "name": "ipython",
    "version": 3
   },
   "file_extension": ".py",
   "mimetype": "text/x-python",
   "name": "python",
   "nbconvert_exporter": "python",
   "pygments_lexer": "ipython3",
   "version": "3.10.12"
  }
 },
 "nbformat": 4,
 "nbformat_minor": 5
}
